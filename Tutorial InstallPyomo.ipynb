{
 "cells": [
  {
   "cell_type": "markdown",
   "metadata": {},
   "source": [
    "### An Introductory Beginner's Guide to solving Optimization Problems in Python! 🎯\n",
    "<p align=\"middle\">\n",
    "<img src=\"https://upload.wikimedia.org/wikipedia/commons/thumb/c/c3/Python-logo-notext.svg/1200px-Python-logo-notext.svg.png\" alt=\"Python logo\" width=\"60\" hspace=\"20\"/>\n",
    "<img src=\"https://upload.wikimedia.org/wikipedia/en/f/fd/Pyomo_Logo_Without_Text.png\" alt=\"Pyomo logo\" width=\"120\" hspace=\"20\"/>\n",
    "<img src=\"https://avatars.githubusercontent.com/u/15114496?s=280&v=4\" alt=\"Gurobi logo\" width=\"60\" hspace=\"40\"/>\n",
    "</p>\n",
    "\n",
    "__Objeective__: 🥅\n",
    "-   Get a quick start on working with Python\n",
    "-   __Learn how to install the [***Pyomo***](http://www.pyomo.org/about) package for solving optimization problems__\n",
    "-   Learn how to install the Gurobi solver, obtain an academic license (for multiple PCs) and install the accompanying Python package\n",
    "\n",
    "__NB__:  Note that this is meant to serve as a quick startup guide and this tutorial would not go into details on Python programming or the use of the [***Gurobipy***](https://pypi.org/project/gurobipy/) package.👀👀\n",
    "\n",
    "Follow along and enjoy the ride 🧘🏽‍♀️\n"
   ]
  },
  {
   "cell_type": "markdown",
   "metadata": {},
   "source": [
    "#### Quick Introduction to Python Programming\n",
    "\n",
    "Hopefully, if you are following this from a Jupyter notebook, then you definitely have it installed 😇. Otherwise, I've got you still! Follow this [reference notebook](https://github.com/milaan9/01_Python_Introduction/blob/main/002_How_to_install_Python.ipynb) to get you started in  installing and using the Jupyter notebook in no time 😉. \n",
    "\n",
    "In this tutorial, we would be covering __just what you need__ to learn to get started with the Pyomo Tutorial\n",
    "\n",
    "\n"
   ]
  },
  {
   "cell_type": "markdown",
   "metadata": {},
   "source": [
    "#### Setting up Pyomo for Optimization\n",
    "\n",
    "Pyomo Package itself is very easy to install. Use the following command for installing Pyomo and its dependencies:\n",
    "\n",
    "```bash\n",
    "    pip install pyomo\n",
    "```\n",
    "\n",
    "##### Solvers\n",
    "Additionally, you would need some solvers for obtainining numerical solutions to the optimization problems, such as ___Gurobi___ which is the more popular option. Other Open Source options ___Ipopt, coincbc, glpk___ \\\n",
    "Solvers would be needed for computing solutions to the optimization models written in Pyomo\n",
    "\n",
    "The open-source solvers can be installed using the following commands: \n",
    "```bash\n",
    "    !conda install -c conda-forge solver-name\n",
    "```\n",
    "NB: You can also run the above command from the terminal without using the \"!\"\n",
    "- ___\\-c___ : $\\quad$ provides the option for specifying a channel for which the solver should be installed\n",
    "- ___conda-forge___ :   $\\quad$  is one of the open-source channels containing an array of packages that can be installed on conda. Such as the ___glpk___  solver\n",
    "\n",
    "For example, to install the ___Ipopt___ and ___glpk___ solvers run the following in a jupyter notebook cell:\n",
    "``` bash\n",
    "    conda install -c conda-forge coincbc\n",
    "    conda install -c conda-forge ipopt\n",
    "```\n",
    "\n",
    "__NOTE__: Problems with creating a new conda environment. After creating a new environment, revert to base to fix issues. Use below commands:\n",
    "```bash\n",
    "    conda activate base\n",
    "    conda update --all\n",
    "```\n"
   ]
  },
  {
   "cell_type": "code",
   "execution_count": null,
   "metadata": {},
   "outputs": [],
   "source": [
    "# Run this cell to install Pyomo and relevant solvers\n",
    "\n",
    "!pip install pyomo \n",
    "!conda install -c conda-forge ipopt glpk"
   ]
  },
  {
   "cell_type": "markdown",
   "metadata": {},
   "source": [
    "### Solving a simple optimization problem\n",
    "\n",
    "Given the following optimization problem to maximize _profit_ subject to _revenue_($ x $) and _production cost_($ y $):\n",
    "\\begin{split}\n",
    "    \\max &\\quad  40x-12y \\\\\n",
    "     s.t. &\\quad  x \\leq 40 \\\\\n",
    "     &\\quad  x + y \\leq 80 \\\\\n",
    "    &\\quad  2x + y \\leq 100\n",
    "\\end{split}\n",
    "\n",
    "The optimal solution to the problem can be obtained in Pyomo using the following procedures:\n",
    "\n",
    "#### Step 1: Import Pyomo\n"
   ]
  },
  {
   "cell_type": "code",
   "execution_count": 1,
   "metadata": {},
   "outputs": [],
   "source": [
    "import pyomo.environ as pyo"
   ]
  },
  {
   "cell_type": "markdown",
   "metadata": {},
   "source": [
    "#### Step 2: Create a \"__ConcreteModel__\" object\n",
    "\n",
    "In most cases, simple optimization problems are explicitly defined with the data values given at the time of formulation. \n",
    "```pyo.ConcreteModel()``` allows for models of the kind to be written and formulated \\\n",
    "Alternatively, ```pyo.AbstractModel()``` can create models where the problem data will be provided later to create specific model instances.\n",
    "\n",
    "Pyomo models should be named using any standard Python variable name as in the example below. \\\n",
    "It is best to use a short name for ease and readability. ```ConcreteModel``` accepts an optional string argument used to title subsequent reports."
   ]
  },
  {
   "cell_type": "code",
   "execution_count": 2,
   "metadata": {},
   "outputs": [],
   "source": [
    "# create a model\n",
    "model = pyo.ConcreteModel(\"A Simple Model\")"
   ]
  },
  {
   "cell_type": "code",
   "execution_count": 3,
   "metadata": {},
   "outputs": [
    {
     "name": "stdout",
     "output_type": "stream",
     "text": [
      "Model A Simple Model\n",
      "\n",
      "  Variables:\n",
      "    None\n",
      "\n",
      "  Objectives:\n",
      "    None\n",
      "\n",
      "  Constraints:\n",
      "    None\n"
     ]
    }
   ],
   "source": [
    "# To take a peek at the just created object, run below cell\n",
    "model.display()"
   ]
  },
  {
   "cell_type": "markdown",
   "metadata": {},
   "source": [
    "The ```.display()``` command also allows you inspect other objects or contents related to the Pyomo model."
   ]
  },
  {
   "cell_type": "markdown",
   "metadata": {},
   "source": [
    "#### Step 3: Creating Decision Variables\n",
    "\n",
    "Decision variables are created with ```pyo.Var()```. Here we assign decision variables to the model instance using the Python ‘dot’ notation. The variable names are chosen to reflect their names in the mathematical model.\n",
    "\n",
    "```pyo.Var()``` accepts optional keyword arguments. They include:\n",
    "\n",
    "- ```domain``` specifies a set of values for a decision variable. By default, the domain is the set of all real numbers. \n",
    "Other commonly used domains are ```pyo.NonNegativeReals```, ```pyo.NonNegativeIntegers```, and ```pyo.Binary```.\n",
    "\n",
    "- ```bounds``` is an optional keyword argument to specify a tuple containing values for the lower and upper bounds.\\\n",
    " It is good modeling practice to specify any known and fixed bounds on the decision variables.\\\n",
    "  ```None``` can be used as a placeholder if one of the two bounds is unknown. Specifying the bounds as ```(0, None)``` is equivalent to specifying the domain as ``pyo.NonNegativeReals``.\n",
    "\n",
    "You can consult the Pyomo Documentation [here](https://pyomo.readthedocs.io/en/stable/pyomo_modeling_components/Variables.html) for an exhaustive list of arguments"
   ]
  },
  {
   "cell_type": "code",
   "execution_count": 4,
   "metadata": {},
   "outputs": [
    {
     "name": "stdout",
     "output_type": "stream",
     "text": [
      "Model A Simple Model\n",
      "\n",
      "  Variables:\n",
      "    x : Size=1, Index=None\n",
      "        Key  : Lower : Value : Upper : Fixed : Stale : Domain\n",
      "        None :     0 :  None :  None : False :  True : NonNegativeReals\n",
      "    y : Size=1, Index=None\n",
      "        Key  : Lower : Value : Upper : Fixed : Stale : Domain\n",
      "        None :     0 :  None :  None : False :  True : NonNegativeReals\n",
      "\n",
      "  Objectives:\n",
      "    None\n",
      "\n",
      "  Constraints:\n",
      "    None\n"
     ]
    }
   ],
   "source": [
    "\n",
    "# declare decision variables\n",
    "model.x = pyo.Var(domain=pyo.NonNegativeReals)\n",
    "model.y = pyo.Var(domain=pyo.NonNegativeReals)\n",
    "\n",
    "model.display()"
   ]
  },
  {
   "cell_type": "markdown",
   "metadata": {},
   "source": [
    "#### Step 4: Formulating Problem Objectives\n",
    "An objective function returns the value that an optimization package attempts to maximize. In Pyomo the ```Objective``` function declares the problem objective.\n",
    "\n",
    "Using the ```Objective``` function, there are a two easy ways with which the objective functions can be specified.\\\n",
    "The first method is passing the ```expr``` argument to the ```Objective``` function and the goal of the optimization problem is specified by the ```sense``` keyword.\n",
    "```bash\n",
    "\n",
    "model.profit = pyo.Objective(expr = 40*model.x - 12*model.y, sense=pyo.maximize)\n",
    "```\n",
    "Alternatively, you could define a python function and pass the ```rule``` argument to the ```Objective``` function\n",
    "\n",
    "```javascript\n",
    "def profit(model):\n",
    "    return 40*model.x - 12*model.y\n",
    "    \n",
    "model.profit = pyo.Objective(rule = profit, sense=pyo.maximize)\n",
    "```"
   ]
  },
  {
   "cell_type": "code",
   "execution_count": 5,
   "metadata": {},
   "outputs": [
    {
     "name": "stdout",
     "output_type": "stream",
     "text": [
      "Model A Simple Model\n",
      "\n",
      "  Variables:\n",
      "    x : Size=1, Index=None\n",
      "        Key  : Lower : Value : Upper : Fixed : Stale : Domain\n",
      "        None :     0 :  None :  None : False :  True : NonNegativeReals\n",
      "    y : Size=1, Index=None\n",
      "        Key  : Lower : Value : Upper : Fixed : Stale : Domain\n",
      "        None :     0 :  None :  None : False :  True : NonNegativeReals\n",
      "\n",
      "  Objectives:\n",
      "    profit : Size=1, Index=None, Active=True\n",
      "ERROR: evaluating object as numeric value: x\n",
      "        (object: <class 'pyomo.core.base.var.ScalarVar'>)\n",
      "    No value for uninitialized NumericValue object x\n",
      "ERROR: evaluating object as numeric value: profit\n",
      "        (object: <class 'pyomo.core.base.objective.ScalarObjective'>)\n",
      "    No value for uninitialized NumericValue object x\n",
      "        Key : Active : Value\n",
      "        None :   None :  None\n",
      "\n",
      "  Constraints:\n",
      "    None\n"
     ]
    }
   ],
   "source": [
    "# declare objective\n",
    "model.profit = pyo.Objective(expr = 40*model.x - 12*model.y, sense=pyo.maximize)\n",
    "\n",
    "model.display()"
   ]
  },
  {
   "cell_type": "markdown",
   "metadata": {},
   "source": [
    "#### Step 5: Writing Constraints\n",
    "\n",
    "The constraints define the parameter domain over which feasible solutions to the optimzation problem can be obtained.\n",
    "They are written as logical relationships of expressions using the equality or inequality mathematical symbols.\n",
    "\n",
    "Constraints can be created in Pyomo using the ```Constraint``` function, and just like in the ```Objective``` function, there are a two easy ways with which the Constraint functions can be specified.\\\n",
    "The first method is passing the ```expr``` argument to the ```Constraint``` function.\n",
    "```bash\n",
    "\n",
    "model.demand_cons = pyo.Constraint(expr = model.x <= 40)\n",
    "```\n",
    "Alternatively, you could define a python function and pass the ```rule``` argument to the ```Constraint``` function\n",
    "\n",
    "```javascript\n",
    "def demand_cons(model):\n",
    "    return model.x <= 40\n",
    "    \n",
    "model.demand = pyo.Constraint(rule = demand_cons, sense=pyo.maximize)\n",
    "```"
   ]
  },
  {
   "cell_type": "code",
   "execution_count": 7,
   "metadata": {},
   "outputs": [],
   "source": [
    "# declare constraints\n",
    "model.demand = pyo.Constraint(expr = model.x <= 40)\n",
    "model.laborA = pyo.Constraint(expr = model.x + model.y <= 80)\n",
    "model.laborB = pyo.Constraint(expr = 2*model.x + model.y <= 100)"
   ]
  },
  {
   "cell_type": "markdown",
   "metadata": {},
   "source": [
    "#### Step 6: Solve the model\n",
    "\n",
    "Given a properly formulated problem, the Pyomo ```SolverFactory``` object can be used for obtaining a sultion using optimization solvers.\n",
    "\n",
    "In this example, we would be using the ___Gurobi___ solver. The optional argument ```tee``` allows you to see more information about the obtained solution."
   ]
  },
  {
   "cell_type": "code",
   "execution_count": 9,
   "metadata": {},
   "outputs": [
    {
     "name": "stdout",
     "output_type": "stream",
     "text": [
      "Set parameter Username\n",
      "Academic license - for non-commercial use only - expires 2024-07-12\n",
      "Read LP format model from file C:\\Users\\omi222\\AppData\\Local\\Temp\\tmpfa7to0i8.pyomo.lp\n",
      "Reading time = 0.00 seconds\n",
      "x1: 3 rows, 2 columns, 5 nonzeros\n",
      "Gurobi Optimizer version 10.0.2 build v10.0.2rc0 (win64)\n",
      "\n",
      "CPU model: 11th Gen Intel(R) Core(TM) i9-11900K @ 3.50GHz, instruction set [SSE2|AVX|AVX2|AVX512]\n",
      "Thread count: 8 physical cores, 16 logical processors, using up to 16 threads\n",
      "\n",
      "Optimize a model with 3 rows, 2 columns and 5 nonzeros\n",
      "Model fingerprint: 0x4b88e841\n",
      "Coefficient statistics:\n",
      "  Matrix range     [1e+00, 2e+00]\n",
      "  Objective range  [1e+01, 4e+01]\n",
      "  Bounds range     [0e+00, 0e+00]\n",
      "  RHS range        [4e+01, 1e+02]\n",
      "Presolve removed 3 rows and 2 columns\n",
      "Presolve time: 0.00s\n",
      "Presolve: All rows and columns removed\n",
      "Iteration    Objective       Primal Inf.    Dual Inf.      Time\n",
      "       0    1.6000000e+03   0.000000e+00   0.000000e+00      0s\n",
      "\n",
      "Solved in 0 iterations and 0.00 seconds (0.00 work units)\n",
      "Optimal objective  1.600000000e+03\n"
     ]
    }
   ],
   "source": [
    "from pyomo.environ import SolverFactory\n",
    "\n",
    "SOLVER = SolverFactory('gurobi')\n",
    "results = SOLVER.solve(model, tee=True)"
   ]
  },
  {
   "cell_type": "code",
   "execution_count": 10,
   "metadata": {},
   "outputs": [
    {
     "name": "stdout",
     "output_type": "stream",
     "text": [
      "Model A Simple Model\n",
      "\n",
      "  Variables:\n",
      "    x : Size=1, Index=None\n",
      "        Key  : Lower : Value : Upper : Fixed : Stale : Domain\n",
      "        None :     0 :  40.0 :  None : False : False : NonNegativeReals\n",
      "    y : Size=1, Index=None\n",
      "        Key  : Lower : Value : Upper : Fixed : Stale : Domain\n",
      "        None :     0 :   0.0 :  None : False : False : NonNegativeReals\n",
      "\n",
      "  Objectives:\n",
      "    profit : Size=1, Index=None, Active=True\n",
      "        Key  : Active : Value\n",
      "        None :   True : 1600.0\n",
      "\n",
      "  Constraints:\n",
      "    demand : Size=1\n",
      "        Key  : Lower : Body : Upper\n",
      "        None :  None : 40.0 :  40.0\n",
      "    laborA : Size=1\n",
      "        Key  : Lower : Body : Upper\n",
      "        None :  None : 40.0 :  80.0\n",
      "    laborB : Size=1\n",
      "        Key  : Lower : Body : Upper\n",
      "        None :  None : 80.0 : 100.0\n"
     ]
    }
   ],
   "source": [
    "model.display()"
   ]
  },
  {
   "cell_type": "markdown",
   "metadata": {},
   "source": [
    "### References\n",
    "The above tutorial have been compiled using the following materials:\n",
    "    \n",
    "- [Data-Driven Mathematical Optimization in Python](https://mobook.github.io/MO-book/intro.html)\n",
    "- [Pyomo Documentation](https://pyomo.readthedocs.io/en/stable/pyomo_overview/index.html)\n",
    "- [ND Pyomo Cookbook](https://jckantor.github.io/ND-Pyomo-Cookbook/README.html)\n",
    "- [Application 1: Simple MPC in Pyomo](https://github.com/Maayowa/Pyomo-Practice/blob/main/MPC%20in%20Pyomo/mpc_notime.ipynb)\n",
    "- [Application 2: Chance Constrained Economic Dispatch Problem](https://mobook.github.io/MO-book/notebooks/09/economicdispatch.html)\n"
   ]
  }
 ],
 "metadata": {
  "kernelspec": {
   "display_name": "Python 3 (ipykernel)",
   "language": "python",
   "name": "python3"
  },
  "language_info": {
   "codemirror_mode": {
    "name": "ipython",
    "version": 3
   },
   "file_extension": ".py",
   "mimetype": "text/x-python",
   "name": "python",
   "nbconvert_exporter": "python",
   "pygments_lexer": "ipython3",
   "version": "3.9.13"
  }
 },
 "nbformat": 4,
 "nbformat_minor": 4
}
