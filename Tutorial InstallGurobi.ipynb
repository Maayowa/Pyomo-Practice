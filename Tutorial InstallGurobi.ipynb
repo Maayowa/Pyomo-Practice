{
 "cells": [
  {
   "cell_type": "markdown",
   "metadata": {},
   "source": [
    "### An Introductory Beginner's Guide to solving Optimization Problems in Python! 🎯\n",
    "<p align=\"middle\">\n",
    "<img src=\"https://upload.wikimedia.org/wikipedia/commons/thumb/c/c3/Python-logo-notext.svg/1200px-Python-logo-notext.svg.png\" alt=\"Python logo\" width=\"60\" hspace=\"20\"/>\n",
    "<img src=\"https://upload.wikimedia.org/wikipedia/en/f/fd/Pyomo_Logo_Without_Text.png\" alt=\"Pyomo logo\" width=\"120\" hspace=\"20\"/>\n",
    "<img src=\"https://avatars.githubusercontent.com/u/15114496?s=280&v=4\" alt=\"Gurobi logo\" width=\"60\" hspace=\"40\"/>\n",
    "</p>\n",
    "\n",
    "__Objeective__: 🥅\n",
    "-   __Get a quick start on working with Python__\n",
    "-   Learn how to install the [***Pyomo***](http://www.pyomo.org/about) package for solving optimization problems\n",
    "-   __Learn how to install the Gurobi solver, obtain an academic license (for multiple PCs) and install the accompanying Python package__\n",
    "\n",
    "__NB__:  Note that this is meant to serve as a quick startup guide and this tutorial would not go into details on Python programming or the use of the [***Gurobipy***](https://pypi.org/project/gurobipy/) package.👀👀\n",
    "\n",
    "Follow along and enjoy the ride 🧘🏽‍♀️\n"
   ]
  },
  {
   "cell_type": "markdown",
   "metadata": {},
   "source": [
    "#### Quick Introduction to Python Programming <img src=\"https://upload.wikimedia.org/wikipedia/commons/thumb/c/c3/Python-logo-notext.svg/1200px-Python-logo-notext.svg.png\" alt=\"Python logo\" width=\"20\" >\n",
    "\n",
    "Hopefully, if you are following this from a Jupyter notebook, then you definitely have Python installed 😇. Otherwise, I've got you still! \n",
    "\n",
    "- Follow this [reference notebook](https://github.com/milaan9/01_Python_Introduction/blob/main/002_How_to_install_Python.ipynb) to get you started in  installing and using the Jupyter notebook in no time 😉. \n",
    "- Next, follow the listed tutorials to learn about the following topics in Python programming in their order:\n",
    "    - [Python Varaiables and Constants](https://github.com/milaan9/01_Python_Introduction/blob/main/007_Python_Variables_%26_Constants.ipynb)\n",
    "    - [Python Operators](https://github.com/milaan9/01_Python_Introduction/blob/main/012_Python_Operators.ipynb)\n",
    "    - [Data Types in Python](https://github.com/milaan9/01_Python_Introduction/blob/main/009_Python_Data_Types.ipynb)\n",
    "\n",
    "Note that the above resources are ***what you would need*** to get started with the Pyomo tutorial. Check out other resources for further learning. \n",
    "\n",
    "\n",
    "\n"
   ]
  },
  {
   "cell_type": "markdown",
   "metadata": {},
   "source": [
    "#### Installing Gurobi<img src=\"https://avatars.githubusercontent.com/u/15114496?s=280&v=4\" alt=\"Gurobi logo\" width=\"18\" hspace=\"25\"/>\n",
    "\n",
    "Ultimately, when we start developing optimization problems using Pyomo, we would often need solvers such as Gurobi for solving the problem. So we would be going ahead of ourselves here to install the Gurobi solver and obtain an academic license.\n",
    "\n",
    "**Follow these steps:**\n",
    "- Visit the Official Gurobi [registration webpage](https://portal.gurobi.com/iam/register/) to register and create an account. \n",
    "**Be sure to click on the \"Academic\" under the user section** \n",
    "<p float=\"left\">\n",
    "<img src=\"https://drive.google.com/uc?id=1q3ITMdIv9Ph_K2V7zhtB3JqqZ8LYyZzr\" alt=\"Gurobi page\" width=\"250\" hspace=\"120\"/>\n",
    "<span style='font-size:80px;'>&#8702;</span>\n",
    "<img src=\"https://drive.google.com/uc?id=1BMuQ0iGdLRuR72asZPkz0CTrgrqLQxj-\" alt=\"Gurobi page\" width=\"300\" hspace=\"120\"/>\n",
    "</p>\n",
    "\n",
    "\n",
    "\n",
    "- On completion of the forms, you get a verification email. Complete the verification and then click on the login botton at the top right of the Gurobi webpage\n",
    "- Now we are ready to get our academic license 🤓. Once you login, visit the [Gurobi User Portal](https://portal.gurobi.com/iam/licenses/request?type=academic) to request for your academic license\n",
    "\n",
    "<img src=\"https://drive.google.com/uc?id=15woUc6vVernuKS8vgGBp5zcoYADm_pZ3\" alt=\"Gurobi page\" width=\"300\" hspace=\"120\"/>  \n",
    "\n",
    "- Copy and store the one-time license key after requesting as we would be needing it.\n",
    "\n",
    "<img src=\"https://drive.google.com/uc?id=1C3qU0zFW2JgPEPSXLiob3atriOIOMfpO\" alt=\"Gurobi page\" width=\"200\" hspace=\"120\"/> \n",
    "\n",
    "- Once you have a license, your next step is to [install the software](https://www.gurobi.com/downloads/gurobi-software/).\n",
    "\n",
    "<img src=\"https://drive.google.com/uc?id=1un7YFK8RJhb4zmHsgDMXgPVvWMbC6b_w\" alt=\"Gurobi page\" width=\"300\" hspace=\"120\"/> \n",
    "\n",
    "- To activate your license, after installing the software, open up the Gurobi Interactive shell. \\\n",
    "__NB:__ Ensure you are connected to the university network (either via Wifi or VPN) before opening the shell.\n",
    "\n",
    "<p float=\"left\">\n",
    "<img src=\"https://drive.google.com/uc?id=1-Q_vuob5lrnA4slRDy7oycLQcUdknp47\" alt=\"Gurobi page\" width=\"200\" hspace=\"120\"/> \n",
    "<img src=\"https://drive.google.com/uc?id=1r4JADXZIw0u-rWJn6YijyixsnWnZWFbU\" alt=\"Gurobi page\" width=\"300\" hspace=\"120\"/>\n",
    "</p>\n",
    "\n",
    "- Remember our license key from earlier? Yup, this is where it goes. Once you hit enter, you should see something like this on your screen\n",
    "\n",
    "<img src=\"https://drive.google.com/uc?id=1XR5b6geh7LUnDXXEAULq9mnrmkpP5hkQ\" alt=\"Gurobi page\" width=\"300\" hspace=\"120\"/>\n",
    "\n",
    "- Congratulations on completing your installation of the Gurobi software 🎉🎉🎉🎉. Now is a good time to take a breather!! 🧘🏽‍♀️🧘🏽‍♀️🧘🏽‍♀️\n",
    "\n",
    "\n",
    "\n",
    "\n"
   ]
  }
 ],
 "metadata": {
  "kernelspec": {
   "display_name": "pyoptim",
   "language": "python",
   "name": "python3"
  },
  "language_info": {
   "codemirror_mode": {
    "name": "ipython",
    "version": 3
   },
   "file_extension": ".py",
   "mimetype": "text/x-python",
   "name": "python",
   "nbconvert_exporter": "python",
   "pygments_lexer": "ipython3",
   "version": "3.11.4"
  },
  "orig_nbformat": 4
 },
 "nbformat": 4,
 "nbformat_minor": 2
}
